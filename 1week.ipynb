{
  "nbformat": 4,
  "nbformat_minor": 0,
  "metadata": {
    "colab": {
      "name": "1week",
      "provenance": [],
      "collapsed_sections": [],
      "toc_visible": true,
      "authorship_tag": "ABX9TyNz+vRCIIHMY6RkBJoRfJJo",
      "include_colab_link": true
    },
    "kernelspec": {
      "name": "python3",
      "display_name": "Python 3"
    }
  },
  "cells": [
    {
      "cell_type": "markdown",
      "metadata": {
        "id": "view-in-github",
        "colab_type": "text"
      },
      "source": [
        "<a href=\"https://colab.research.google.com/github/Taeyeop-Kim-96/Pre-course-assignment/blob/master/1week.ipynb\" target=\"_parent\"><img src=\"https://colab.research.google.com/assets/colab-badge.svg\" alt=\"Open In Colab\"/></a>"
      ]
    },
    {
      "cell_type": "markdown",
      "metadata": {
        "id": "lgzDLRmPZVE6",
        "colab_type": "text"
      },
      "source": [
        "#**1주차 과제**\n",
        "##목차\n",
        "\n",
        "1.   언어\n",
        "2.   음성\n",
        "3.   이미지\n",
        "4.   자율주행\n",
        "\n",
        "        \n",
        "\n",
        " "
      ]
    },
    {
      "cell_type": "markdown",
      "metadata": {
        "id": "FS5kVoiPvzC2",
        "colab_type": "text"
      },
      "source": [
        "## **1.언어**\n",
        " *  챗봇(chatbot)\n",
        "   + 원리\n",
        "     - 대화형 인터페이스상에서 규칙 또는 인공지능(AI)으로 유저와 상호 작용하는 서비스.\n",
        "   + 장점\n",
        "      - 즉각적인 반응\n",
        "      - 개인화된 대화 가능\n",
        "      - 쉽다     \n",
        "   + 단점\n",
        "      - 그래픽 인터페이스보다 비효율적\n",
        "      - 자연어 처리 미숙"
      ]
    },
    {
      "cell_type": "markdown",
      "metadata": {
        "id": "gSkfJbjqv92Q",
        "colab_type": "text"
      },
      "source": [
        "## **2.음성**\n",
        "* 애플 시리(Apple Siri)\n",
        "   + 원리\n",
        "        - 음성 인식 비서 서비스로 자연어 처리 및 음성 인식 처리에 머신러닝 기술을 기반으로 사용한다.\n",
        "   + 장점\n",
        "      - IOS 버전이 향상되면서 성능이 향상\n",
        "      - 자연어를 인식하고 분석하고 처리가능\n",
        "   + 단점\n",
        "     - 위치 서비스 기능 미지원\n",
        "     - 이중언어 인식불량"
      ]
    },
    {
      "cell_type": "markdown",
      "metadata": {
        "id": "jmRiaHDwwDZt",
        "colab_type": "text"
      },
      "source": [
        "## **3.이미지**\n",
        "  * 구글 포토(Google Photo)\n",
        "    + 원리\n",
        "       - 머신러닝을 이용하여 장소 및 사물을 인식하여 알아서 분류를 한다.\n",
        "    + 장점\n",
        "      - 사물을 인식해서 자동으로 태깅 해서 사진 자체를 인식해서 지정\n",
        "    + 단점\n",
        "      - 사용자가 수동으로 편집한 사진은 분류 제외"
      ]
    },
    {
      "cell_type": "markdown",
      "metadata": {
        "id": "mTo9BRBnwOzl",
        "colab_type": "text"
      },
      "source": [
        "## **4.자율주행**\n",
        "  * 자율 주행 자동차\n",
        "    + 원리\n",
        "       - 인지단계\n",
        "             - GPS와 카메라, 레이더 등으로 주변상황의 정보를 인식하고 수집\n",
        "       - 판단단계\n",
        "             - 주행환경과 목표지점에 적합한 주행전략을 수립하고 판단\n",
        "       - 제어단계\n",
        "             - 엔진구동과 주행방향 등을 결정하고 주행 \n",
        "    + 자율주행기술 발전 6단계\n",
        "       - Level 0 (1단계)\n",
        "             - 비자동 : 운전자가 전적으로 모든 조작을 제어하고, 모든 동적 주행을 조장하는 단계\n",
        "       - Level 1 (2단계)\n",
        "             - 운전자 지원 : 자동차가 조향 지원시스템 또는 가속/감속 지원시스템에 의해 실행되지만 사람이 자동차의 동적 주행에 대한 모든 기능을 수행하는 단계\n",
        "       - Level 2 (3단계)\n",
        "             - 부분 자동화 : 자동차가 조향 지원시스템 또는 가속/감속 지원시스템에 의해 실행되지만 주행환경의 모니터링은 사람이 하며 안전운전 책임도 운전가가 부담\n",
        "       - Level 3 (4단계)\n",
        "             - 조건부 자동화 : 시스템이 운전 조작의 모든 측면을 제어하지만, 시스템이 운전자의 개입을 요청하면 운전자가 적절하게 자동차를 제어해야하며, 그에 따른 책임도 운전자가 보유\n",
        "       - Level 4 (5단계)\n",
        "             - 고도 자동화 : 주행에 대한 핵심제어, 주행환경 모니터링 및 비상시의 대처 등을 모두 시스템이 수행하지만 시스템이 전적으로 항상 제어하는 것은 아님\n",
        "       - Level 5 (6단계)\n",
        "             - 완전 자동화 : 모든 도로조건과 환경에서 시스템이 항상 주행 담당\n",
        "         <*출처 : 자율주행기술동향-기술수준 구분, 한국교통연구원, 2016.04.>                                \n",
        "   + 자율주행자동차 상용화 시 생기는 현상\n",
        "         - 사망률 감소\n",
        "         - 장애인의 차량 이용\n",
        "         - 교통 효율성 증가\n",
        "         - 운전직 일자리 감소로 인한 실업"
        
      ]
    }
  ]
}
